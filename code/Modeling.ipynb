{
 "cells": [
  {
   "cell_type": "code",
   "execution_count": null,
   "metadata": {},
   "outputs": [],
   "source": [
    "import numpy as np\n",
    "import pandas as pd\n",
    "import matplotlib.pyplot as plt\n",
    "import matplotlib as mpl\n",
    "import seaborn as sns\n",
    "from sklearn.ensemble import RandomForestClassifier\n",
    "from sklearn.svm import SVC\n",
    "from sklearn.model_selection import GridSearchCV\n",
    "from sklearn.model_selection import train_test_split\n",
    "from sklearn.metrics import accuracy_score, f1_score, precision_score, recall_score\n",
    "from sklearn.preprocessing import StandardScaler\n",
    "from sklearn.model_selection import PredefinedSplit\n",
    "from sklearn.linear_model import LogisticRegression\n",
    "from sklearn.neighbors import KNeighborsClassifier\n",
    "\n",
    "import random\n",
    "\n",
    "random.seed(42)\n",
    "\n",
    "# matplotlib setup\n",
    "SMALL_SIZE = 8\n",
    "MEDIUM_SIZE = 11\n",
    "LARGE_SIZE = 14\n",
    "\n",
    "plt.rc('font', size=MEDIUM_SIZE)\n",
    "plt.rc('axes', titlesize=MEDIUM_SIZE)\n",
    "plt.rc('axes', labelsize=MEDIUM_SIZE)\n",
    "plt.rc('xtick', labelsize=SMALL_SIZE)\n",
    "plt.rc('ytick', labelsize=SMALL_SIZE)\n",
    "plt.rc('legend', fontsize=SMALL_SIZE)\n",
    "plt.rc('figure', titlesize=SMALL_SIZE)\n",
    "c_palette1 = [\"#264653\",\"#2a9d8f\",\"#e9c46a\",\"#f4a261\",\"#e76f51\", \"#d00000\", \"#9d0208\", \"#6a040f\"]\n",
    "c_palette2 = [\"#9a031e\", \"#fb8b24\", \"#e36414\", \"#0f4c5c\", \"#5C474D\"]\n",
    "mpl.rcParams['axes.prop_cycle'] = mpl.cycler(color=[i for i in c_palette2]) "
   ]
  },
  {
   "cell_type": "code",
   "execution_count": null,
   "metadata": {},
   "outputs": [],
   "source": [
    "preprocessed_data = pd.read_csv('../data/preprocessed_data.csv')"
   ]
  },
  {
   "cell_type": "code",
   "execution_count": null,
   "metadata": {},
   "outputs": [],
   "source": [
    "preprocessed_data.drop(columns=['booking_changes'], inplace=True)"
   ]
  },
  {
   "cell_type": "code",
   "execution_count": null,
   "metadata": {},
   "outputs": [],
   "source": [
    "preprocessed_data.dtypes"
   ]
  },
  {
   "cell_type": "code",
   "execution_count": null,
   "metadata": {},
   "outputs": [],
   "source": [
    "fig, ax = plt.subplots(figsize=(4,4))\n",
    "pd.plotting.parallel_coordinates(preprocessed_data.select_dtypes(include='object'),'reservation_status',\n",
    "                                 color=c_palette1)\n",
    "plt.xticks(rotation='vertical');\n",
    "ax.get_yaxis().set_visible(False)"
   ]
  },
  {
   "cell_type": "code",
   "execution_count": null,
   "metadata": {},
   "outputs": [],
   "source": [
    "fig, ax = plt.subplots(figsize=(4,4))\n",
    "tmp = preprocessed_data.select_dtypes(include=['float64', 'int64'])\n",
    "tmp['reservation_status'] = preprocessed_data['reservation_status']\n",
    "tmp.drop(columns='arrival_date_year', inplace=True)\n",
    "pd.plotting.parallel_coordinates(tmp,'reservation_status', color=c_palette1)\n",
    "plt.xticks(rotation='vertical');"
   ]
  },
  {
   "cell_type": "markdown",
   "metadata": {},
   "source": [
    "Double check that object columns are nominal:"
   ]
  },
  {
   "cell_type": "code",
   "execution_count": null,
   "metadata": {
    "scrolled": true
   },
   "outputs": [],
   "source": [
    "for col in preprocessed_data:\n",
    "    if preprocessed_data[col].dtypes == 'object':\n",
    "        print('\\n' +col)\n",
    "        print(np.unique(preprocessed_data[col]))"
   ]
  },
  {
   "cell_type": "code",
   "execution_count": null,
   "metadata": {},
   "outputs": [],
   "source": [
    "df = preprocessed_data.drop(columns=['reservation_status'] , inplace=False)\n",
    "y = preprocessed_data['reservation_status']\n",
    "df = pd.get_dummies(df)\n",
    "X_train, X_test, y_train, y_test = train_test_split(df, y, test_size=0.1, random_state=42)\n"
   ]
  },
  {
   "cell_type": "markdown",
   "metadata": {},
   "source": [
    "Define validation set"
   ]
  },
  {
   "cell_type": "code",
   "execution_count": null,
   "metadata": {},
   "outputs": [],
   "source": [
    "validation_split = np.zeros(len(X_train)).astype('int64')\n",
    "ind = [random.randrange(0,len(X_train)) for i in range(int(len(validation_split)/10))]\n",
    "validation_split[ind] = -1\n",
    "cv = PredefinedSplit(validation_split)"
   ]
  },
  {
   "cell_type": "markdown",
   "metadata": {},
   "source": [
    "### RF - tuning max_samples only"
   ]
  },
  {
   "cell_type": "code",
   "execution_count": null,
   "metadata": {},
   "outputs": [],
   "source": [
    "param_grid = {'max_samples' :[int(np.sqrt(len(X_train)/10)), int(np.sqrt(len(X_train)/5)),\n",
    "                              int(np.sqrt(len(X_train)/20)), None]\n",
    "             }\n",
    "rf = RandomForestClassifier(random_state=42, n_estimators=250, max_depth= 10)\n",
    "clf = GridSearchCV(rf, param_grid, cv=cv)\n",
    "clf.fit(X_train, y_train)"
   ]
  },
  {
   "cell_type": "code",
   "execution_count": null,
   "metadata": {},
   "outputs": [],
   "source": [
    "clf.best_estimator_"
   ]
  },
  {
   "cell_type": "code",
   "execution_count": null,
   "metadata": {},
   "outputs": [],
   "source": [
    "X_validation = X_train.values[ind]\n",
    "y_validation = y_train.values[ind]\n",
    "pd.Series(y_validation)"
   ]
  },
  {
   "cell_type": "code",
   "execution_count": null,
   "metadata": {},
   "outputs": [],
   "source": [
    "y_pred = clf.predict(X_validation)\n",
    "accuracy_score(y_validation, y_pred, normalize=True)"
   ]
  },
  {
   "cell_type": "code",
   "execution_count": null,
   "metadata": {
    "scrolled": true
   },
   "outputs": [],
   "source": [
    "print('f1_score: ', f1_score(y_validation, y_pred, average='micro'))\n",
    "print('f1_score: ', f1_score(y_validation, y_pred, average='macro'))\n",
    "print('precision_score: ', precision_score(y_validation, y_pred, average='micro'))\n",
    "print('precision_score: ', precision_score(y_validation, y_pred, average='macro'))\n",
    "print('recall_score: ', recall_score(y_validation, y_pred, average='micro'))\n",
    "print('recall_score: ', recall_score(y_validation, y_pred, average='macro'))\n"
   ]
  },
  {
   "cell_type": "markdown",
   "metadata": {},
   "source": [
    "### RF - tuning all parameters"
   ]
  },
  {
   "cell_type": "code",
   "execution_count": null,
   "metadata": {},
   "outputs": [],
   "source": [
    "param_grid = {'max_depth': [15, 20, 25, 30, 35],\n",
    "              'min_samples_split': [2, 5, 10],\n",
    "              'criterion': ['gini', 'entropy'],\n",
    "              'n_estimators': [100,250, 400],\n",
    "              'max_samples' :[int(np.sqrt(len(X_train)/10)), int(np.sqrt(len(X_train)/5)),\n",
    "                              int(np.sqrt(len(X_train)/20)), None]\n",
    "             }\n",
    "rf = RandomForestClassifier(random_state=42)\n",
    "clf = GridSearchCV(rf, param_grid, cv=cv)\n",
    "clf.fit(X_train, y_train)"
   ]
  },
  {
   "cell_type": "code",
   "execution_count": null,
   "metadata": {},
   "outputs": [],
   "source": [
    "clf.best_estimator_"
   ]
  },
  {
   "cell_type": "code",
   "execution_count": null,
   "metadata": {},
   "outputs": [],
   "source": [
    "y_pred = clf.predict(X_validation)\n",
    "accuracy_score(y_validation, y_pred, normalize=True)"
   ]
  },
  {
   "cell_type": "markdown",
   "metadata": {},
   "source": [
    "## KNN"
   ]
  },
  {
   "cell_type": "code",
   "execution_count": null,
   "metadata": {},
   "outputs": [],
   "source": [
    "predictors = ['deposit_type', \n",
    "              'arrival_month_sin',\n",
    "              'arrival_month_cos',\n",
    "              'hotel',\n",
    "              'total_nights',\n",
    "              'meal'\n",
    "             ]\n",
    "df = preprocessed_data[predictors]\n",
    "y = preprocessed_data['reservation_status']\n",
    "df = pd.get_dummies(df)\n",
    "X_train, X_test, y_train, y_test = train_test_split(df, y, test_size=0.1, random_state=42)\n",
    "scaler = StandardScaler()\n",
    "scaler.fit(X_train)\n",
    "X_train = scaler.transform(X_train)\n",
    "X_test = scaler.transform(X_test)"
   ]
  },
  {
   "cell_type": "code",
   "execution_count": null,
   "metadata": {},
   "outputs": [],
   "source": [
    "param_grid = {'n_neighbors':[3,5,11],\n",
    "              'weights':['uniform', 'distance']\n",
    "             }\n",
    "knn =  KNeighborsClassifier(n_neighbors=3)\n",
    "clf = GridSearchCV(knn, param_grid)\n",
    "clf.fit(X_train, y_train)"
   ]
  },
  {
   "cell_type": "code",
   "execution_count": null,
   "metadata": {},
   "outputs": [],
   "source": [
    "clf.best_estimator_"
   ]
  },
  {
   "cell_type": "code",
   "execution_count": null,
   "metadata": {},
   "outputs": [],
   "source": [
    "y_pred = clf.predict(X_validation)\n",
    "accuracy_score(y_validation, y_pred, normalize=True)"
   ]
  },
  {
   "cell_type": "markdown",
   "metadata": {},
   "source": [
    "### SVC"
   ]
  },
  {
   "cell_type": "code",
   "execution_count": null,
   "metadata": {},
   "outputs": [],
   "source": []
  },
  {
   "cell_type": "code",
   "execution_count": null,
   "metadata": {},
   "outputs": [],
   "source": [
    "param_grid = {'kernel':['linear', 'poly', 'rbf', 'sigmoid'],\n",
    "              'degree': [1, 2, 3]}\n",
    "svc = SVC()\n",
    "clf = GridSearchCV(svc, param_grid)\n",
    "clf.fit(X_train, y_train)"
   ]
  },
  {
   "cell_type": "code",
   "execution_count": null,
   "metadata": {},
   "outputs": [],
   "source": [
    "clf.best_estimator_"
   ]
  },
  {
   "cell_type": "code",
   "execution_count": null,
   "metadata": {},
   "outputs": [],
   "source": [
    "y_pred = clf.predict(X_validation)\n",
    "accuracy_score(y_validation, y_pred, normalize=True)"
   ]
  },
  {
   "cell_type": "markdown",
   "metadata": {},
   "source": [
    "## Logistic"
   ]
  },
  {
   "cell_type": "code",
   "execution_count": null,
   "metadata": {},
   "outputs": [],
   "source": [
    "param_grid = {'penalty':['l1', 'l2', 'elasticnet', 'none'],\n",
    "              'C': [1e-1, 1, 10]}\n",
    "lr = LogisticRegression(solver='sag')\n",
    "clf = GridSearchCV(lr, param_grid)\n",
    "clf.fit(X_train, y_train)"
   ]
  },
  {
   "cell_type": "code",
   "execution_count": null,
   "metadata": {},
   "outputs": [],
   "source": [
    "clf.best_estimator_"
   ]
  },
  {
   "cell_type": "code",
   "execution_count": null,
   "metadata": {},
   "outputs": [],
   "source": [
    "y_pred = clf.predict(X_validation)\n",
    "accuracy_score(y_validation, y_pred, normalize=True)"
   ]
  },
  {
   "cell_type": "code",
   "execution_count": null,
   "metadata": {},
   "outputs": [],
   "source": []
  }
 ],
 "metadata": {
  "kernelspec": {
   "display_name": "Python 3",
   "language": "python",
   "name": "python3"
  },
  "language_info": {
   "codemirror_mode": {
    "name": "ipython",
    "version": 3
   },
   "file_extension": ".py",
   "mimetype": "text/x-python",
   "name": "python",
   "nbconvert_exporter": "python",
   "pygments_lexer": "ipython3",
   "version": "3.8.10"
  }
 },
 "nbformat": 4,
 "nbformat_minor": 4
}
