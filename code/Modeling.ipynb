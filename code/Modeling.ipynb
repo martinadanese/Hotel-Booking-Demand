{
 "cells": [
  {
   "cell_type": "code",
   "execution_count": 77,
   "metadata": {},
   "outputs": [],
   "source": [
    "import numpy as np\n",
    "import pandas as pd\n",
    "import matplotlib.pyplot as plt\n",
    "import matplotlib as mpl\n",
    "import seaborn as sns\n",
    "from sklearn.ensemble import RandomForestClassifier\n",
    "from sklearn.svm import SVC\n",
    "from sklearn.model_selection import GridSearchCV\n",
    "from sklearn.model_selection import train_test_split\n",
    "from sklearn.metrics import accuracy_score\n",
    "from sklearn.preprocessing import StandardScaler\n",
    "\n",
    "# matplotlib setup\n",
    "SMALL_SIZE = 8\n",
    "MEDIUM_SIZE = 11\n",
    "LARGE_SIZE = 14\n",
    "\n",
    "plt.rc('font', size=MEDIUM_SIZE)\n",
    "plt.rc('axes', titlesize=MEDIUM_SIZE)\n",
    "plt.rc('axes', labelsize=MEDIUM_SIZE)\n",
    "plt.rc('xtick', labelsize=SMALL_SIZE)\n",
    "plt.rc('ytick', labelsize=SMALL_SIZE)\n",
    "plt.rc('legend', fontsize=SMALL_SIZE)\n",
    "plt.rc('figure', titlesize=SMALL_SIZE)\n",
    "c_palette1 = [\"#264653\",\"#2a9d8f\",\"#e9c46a\",\"#f4a261\",\"#e76f51\", \"#d00000\", \"#9d0208\", \"#6a040f\"]\n",
    "c_palette2 = [\"#9a031e\", \"#fb8b24\", \"#e36414\", \"#0f4c5c\", \"#5C474D\"]\n",
    "mpl.rcParams['axes.prop_cycle'] = mpl.cycler(color=[i for i in c_palette2]) "
   ]
  },
  {
   "cell_type": "code",
   "execution_count": 2,
   "metadata": {},
   "outputs": [],
   "source": [
    "preprocessed_data = pd.read_csv('../data/preprocessed_data.csv')"
   ]
  },
  {
   "cell_type": "markdown",
   "metadata": {},
   "source": [
    "Crete dependent variable of the problem"
   ]
  },
  {
   "cell_type": "code",
   "execution_count": 17,
   "metadata": {},
   "outputs": [],
   "source": [
    "def label_creation (row):\n",
    "    if row['reservation_status'] =='Check-Out' and\\\n",
    "        row['booking_changes']>0:\n",
    "        return 'Changed'\n",
    "    elif row['reservation_status'] =='Check-Out' and\\\n",
    "        row['booking_changes']==0:\n",
    "        return 'Not changed'\n",
    "    else:\n",
    "        return row['reservation_status']\n"
   ]
  },
  {
   "cell_type": "code",
   "execution_count": 20,
   "metadata": {},
   "outputs": [],
   "source": [
    "dependent_variable = preprocessed_data.apply (lambda row: label_creation(row), axis=1)\n",
    "print(dependent_variable.value_counts())\n",
    "preprocessed_data['reservation_status'] = dependent_variable"
   ]
  },
  {
   "cell_type": "code",
   "execution_count": 23,
   "metadata": {},
   "outputs": [
    {
     "data": {
      "text/plain": [
       "hotel                              object\n",
       "is_canceled                          bool\n",
       "lead_time                          object\n",
       "arrival_date_year                   int64\n",
       "arrival_month_sin                 float64\n",
       "arrival_month_cos                 float64\n",
       "total_nights                        int64\n",
       "adults                              int64\n",
       "has_children                         bool\n",
       "meal                               object\n",
       "country                            object\n",
       "market_segment                     object\n",
       "distribution_channel               object\n",
       "is_repeated_guest                    bool\n",
       "previous_cancellations              int64\n",
       "previous_bookings_not_canceled      int64\n",
       "assigned_room_type_as_reserved       bool\n",
       "booking_changes                     int64\n",
       "deposit_type                       object\n",
       "agent                              object\n",
       "company                            object\n",
       "was_in_waiting_list                  bool\n",
       "customer_type                      object\n",
       "required_car_parking_spaces          bool\n",
       "has_special_requests                 bool\n",
       "reservation_status                 object\n",
       "dtype: object"
      ]
     },
     "execution_count": 23,
     "metadata": {},
     "output_type": "execute_result"
    }
   ],
   "source": [
    "preprocessed_data.dtypes"
   ]
  },
  {
   "cell_type": "markdown",
   "metadata": {},
   "source": [
    "Double check that object columns are nominal:"
   ]
  },
  {
   "cell_type": "code",
   "execution_count": 22,
   "metadata": {},
   "outputs": [
    {
     "name": "stdout",
     "output_type": "stream",
     "text": [
      "\n",
      "hotel\n",
      "['City Hotel' 'Resort Hotel']\n",
      "\n",
      "lead_time\n",
      "['long-term' 'moderate' 'short-term' 'very-long-term' 'very-short-term']\n",
      "\n",
      "meal\n",
      "['BB' 'FB' 'HB' 'SC' 'Undefined']\n",
      "\n",
      "country\n",
      "['ABW' 'AGO' 'AIA' 'ALB' 'AND' 'ARE' 'ARG' 'ARM' 'ASM' 'ATA' 'ATF' 'AUS'\n",
      " 'AUT' 'AZE' 'BDI' 'BEL' 'BEN' 'BFA' 'BGD' 'BGR' 'BHR' 'BHS' 'BIH' 'BLR'\n",
      " 'BOL' 'BRA' 'BRB' 'BWA' 'CAF' 'CHE' 'CHL' 'CHN' 'CIV' 'CMR' 'CN' 'COL'\n",
      " 'COM' 'CPV' 'CRI' 'CUB' 'CYM' 'CYP' 'CZE' 'DEU' 'DJI' 'DMA' 'DNK' 'DOM'\n",
      " 'DZA' 'ECU' 'EGY' 'ESP' 'EST' 'ETH' 'FIN' 'FJI' 'FRA' 'FRO' 'GAB' 'GBR'\n",
      " 'GEO' 'GGY' 'GHA' 'GIB' 'GLP' 'GNB' 'GRC' 'GTM' 'GUY' 'HKG' 'HND' 'HRV'\n",
      " 'HUN' 'IDN' 'IMN' 'IND' 'IRL' 'IRN' 'IRQ' 'ISL' 'ISR' 'ITA' 'JAM' 'JEY'\n",
      " 'JOR' 'JPN' 'KAZ' 'KEN' 'KHM' 'KIR' 'KNA' 'KOR' 'KWT' 'LAO' 'LBN' 'LBY'\n",
      " 'LCA' 'LIE' 'LKA' 'LTU' 'LUX' 'LVA' 'MAC' 'MAR' 'MCO' 'MDG' 'MDV' 'MEX'\n",
      " 'MKD' 'MLI' 'MLT' 'MMR' 'MNE' 'MOZ' 'MRT' 'MUS' 'MWI' 'MYS' 'MYT' 'NAM'\n",
      " 'NCL' 'NGA' 'NIC' 'NLD' 'NOR' 'NPL' 'NZL' 'OMN' 'PAK' 'PAN' 'PER' 'PHL'\n",
      " 'PLW' 'POL' 'PRI' 'PRT' 'PRY' 'PYF' 'QAT' 'ROU' 'RUS' 'RWA' 'SAU' 'SDN'\n",
      " 'SEN' 'SGP' 'SLE' 'SLV' 'SMR' 'SRB' 'STP' 'SUR' 'SVK' 'SVN' 'SWE' 'SYC'\n",
      " 'SYR' 'TGO' 'THA' 'TJK' 'TMP' 'TUN' 'TUR' 'TWN' 'TZA' 'UGA' 'UKR' 'UMI'\n",
      " 'URY' 'USA' 'UZB' 'VEN' 'VGB' 'VNM' 'ZAF' 'ZMB' 'ZWE']\n",
      "\n",
      "market_segment\n",
      "['Aviation' 'Complementary' 'Corporate' 'Direct' 'Groups' 'Offline TA/TO'\n",
      " 'Online TA']\n",
      "\n",
      "distribution_channel\n",
      "['Corporate' 'Direct' 'GDS' 'TA/TO' 'Undefined']\n",
      "\n",
      "deposit_type\n",
      "['No Deposit' 'Non Refund' 'Refundable']\n",
      "\n",
      "agent\n",
      "['1.0' '10.0' '103.0' '104.0' '105.0' '106.0' '107.0' '11.0' '110.0'\n",
      " '111.0' '112.0' '114.0' '115.0' '117.0' '118.0' '119.0' '12.0' '121.0'\n",
      " '122.0' '126.0' '127.0' '128.0' '129.0' '13.0' '132.0' '133.0' '134.0'\n",
      " '135.0' '138.0' '139.0' '14.0' '141.0' '142.0' '143.0' '144.0' '146.0'\n",
      " '147.0' '148.0' '149.0' '15.0' '150.0' '151.0' '152.0' '153.0' '154.0'\n",
      " '155.0' '156.0' '157.0' '158.0' '159.0' '16.0' '162.0' '163.0' '165.0'\n",
      " '167.0' '168.0' '17.0' '170.0' '171.0' '173.0' '174.0' '175.0' '177.0'\n",
      " '179.0' '180.0' '181.0' '182.0' '183.0' '184.0' '185.0' '187.0' '19.0'\n",
      " '191.0' '192.0' '193.0' '195.0' '196.0' '197.0' '2.0' '20.0' '201.0'\n",
      " '205.0' '208.0' '21.0' '210.0' '211.0' '213.0' '214.0' '215.0' '216.0'\n",
      " '219.0' '22.0' '220.0' '223.0' '227.0' '229.0' '23.0' '232.0' '234.0'\n",
      " '235.0' '236.0' '24.0' '240.0' '241.0' '242.0' '243.0' '244.0' '245.0'\n",
      " '247.0' '248.0' '249.0' '25.0' '250.0' '251.0' '252.0' '253.0' '254.0'\n",
      " '256.0' '257.0' '258.0' '26.0' '261.0' '262.0' '265.0' '267.0' '269.0'\n",
      " '27.0' '270.0' '273.0' '275.0' '276.0' '278.0' '28.0' '280.0' '281.0'\n",
      " '282.0' '283.0' '285.0' '286.0' '287.0' '288.0' '289.0' '29.0' '290.0'\n",
      " '291.0' '294.0' '295.0' '296.0' '298.0' '299.0' '3.0' '30.0' '300.0'\n",
      " '301.0' '302.0' '303.0' '304.0' '305.0' '306.0' '307.0' '308.0' '31.0'\n",
      " '310.0' '313.0' '314.0' '315.0' '32.0' '321.0' '323.0' '324.0' '325.0'\n",
      " '326.0' '327.0' '328.0' '33.0' '330.0' '331.0' '332.0' '333.0' '334.0'\n",
      " '335.0' '336.0' '337.0' '339.0' '34.0' '341.0' '344.0' '346.0' '348.0'\n",
      " '35.0' '350.0' '352.0' '354.0' '355.0' '358.0' '359.0' '36.0' '360.0'\n",
      " '363.0' '364.0' '367.0' '368.0' '37.0' '370.0' '371.0' '375.0' '378.0'\n",
      " '38.0' '384.0' '385.0' '387.0' '388.0' '39.0' '390.0' '391.0' '393.0'\n",
      " '394.0' '397.0' '4.0' '40.0' '403.0' '404.0' '405.0' '406.0' '408.0'\n",
      " '41.0' '410.0' '411.0' '414.0' '416.0' '418.0' '42.0' '420.0' '423.0'\n",
      " '425.0' '426.0' '427.0' '429.0' '430.0' '431.0' '432.0' '433.0' '434.0'\n",
      " '436.0' '438.0' '44.0' '440.0' '441.0' '444.0' '449.0' '45.0' '450.0'\n",
      " '451.0' '453.0' '454.0' '455.0' '459.0' '461.0' '464.0' '467.0' '468.0'\n",
      " '469.0' '47.0' '472.0' '474.0' '475.0' '476.0' '479.0' '480.0' '481.0'\n",
      " '483.0' '484.0' '492.0' '493.0' '495.0' '497.0' '5.0' '50.0' '502.0'\n",
      " '508.0' '509.0' '510.0' '52.0' '526.0' '527.0' '53.0' '531.0' '535.0'\n",
      " '54.0' '55.0' '56.0' '57.0' '58.0' '59.0' '6.0' '60.0' '61.0' '63.0'\n",
      " '64.0' '66.0' '67.0' '68.0' '69.0' '7.0' '70.0' '71.0' '72.0' '73.0'\n",
      " '74.0' '75.0' '77.0' '78.0' '79.0' '8.0' '81.0' '82.0' '83.0' '85.0'\n",
      " '86.0' '87.0' '88.0' '89.0' '9.0' '90.0' '91.0' '92.0' '93.0' '94.0'\n",
      " '95.0' '96.0' '98.0' '99.0' 'None']\n",
      "\n",
      "company\n",
      "['10.0' '100.0' '101.0' '102.0' '103.0' '104.0' '105.0' '106.0' '107.0'\n",
      " '108.0' '109.0' '11.0' '110.0' '112.0' '113.0' '115.0' '116.0' '118.0'\n",
      " '12.0' '120.0' '122.0' '127.0' '130.0' '132.0' '135.0' '137.0' '139.0'\n",
      " '14.0' '140.0' '142.0' '143.0' '144.0' '146.0' '148.0' '149.0' '150.0'\n",
      " '153.0' '154.0' '158.0' '159.0' '16.0' '160.0' '163.0' '165.0' '167.0'\n",
      " '168.0' '169.0' '174.0' '178.0' '179.0' '18.0' '180.0' '183.0' '184.0'\n",
      " '185.0' '186.0' '192.0' '193.0' '195.0' '197.0' '20.0' '200.0' '202.0'\n",
      " '203.0' '204.0' '207.0' '209.0' '210.0' '212.0' '213.0' '215.0' '216.0'\n",
      " '217.0' '218.0' '219.0' '22.0' '220.0' '221.0' '222.0' '223.0' '224.0'\n",
      " '225.0' '227.0' '229.0' '230.0' '232.0' '233.0' '234.0' '237.0' '238.0'\n",
      " '240.0' '242.0' '243.0' '245.0' '246.0' '250.0' '251.0' '253.0' '254.0'\n",
      " '255.0' '257.0' '258.0' '259.0' '260.0' '263.0' '264.0' '268.0' '269.0'\n",
      " '270.0' '271.0' '272.0' '273.0' '274.0' '275.0' '277.0' '278.0' '28.0'\n",
      " '280.0' '281.0' '282.0' '284.0' '286.0' '287.0' '288.0' '289.0' '29.0'\n",
      " '290.0' '291.0' '292.0' '293.0' '297.0' '301.0' '302.0' '304.0' '305.0'\n",
      " '307.0' '308.0' '309.0' '31.0' '311.0' '312.0' '313.0' '314.0' '316.0'\n",
      " '317.0' '318.0' '319.0' '32.0' '320.0' '321.0' '323.0' '324.0' '325.0'\n",
      " '329.0' '330.0' '331.0' '332.0' '333.0' '334.0' '337.0' '338.0' '34.0'\n",
      " '341.0' '342.0' '343.0' '346.0' '347.0' '348.0' '349.0' '35.0' '350.0'\n",
      " '351.0' '352.0' '353.0' '355.0' '356.0' '357.0' '358.0' '360.0' '361.0'\n",
      " '362.0' '364.0' '365.0' '366.0' '367.0' '368.0' '369.0' '37.0' '370.0'\n",
      " '371.0' '372.0' '373.0' '376.0' '377.0' '378.0' '379.0' '38.0' '380.0'\n",
      " '382.0' '383.0' '384.0' '385.0' '388.0' '39.0' '390.0' '391.0' '392.0'\n",
      " '393.0' '394.0' '395.0' '396.0' '397.0' '398.0' '399.0' '40.0' '400.0'\n",
      " '401.0' '402.0' '403.0' '405.0' '407.0' '408.0' '409.0' '410.0' '411.0'\n",
      " '412.0' '413.0' '415.0' '416.0' '417.0' '418.0' '419.0' '42.0' '420.0'\n",
      " '421.0' '422.0' '423.0' '424.0' '425.0' '426.0' '428.0' '429.0' '43.0'\n",
      " '433.0' '435.0' '436.0' '437.0' '439.0' '442.0' '443.0' '444.0' '445.0'\n",
      " '446.0' '447.0' '448.0' '45.0' '450.0' '451.0' '452.0' '454.0' '455.0'\n",
      " '456.0' '458.0' '459.0' '46.0' '460.0' '461.0' '465.0' '466.0' '47.0'\n",
      " '470.0' '477.0' '478.0' '479.0' '48.0' '481.0' '482.0' '483.0' '484.0'\n",
      " '485.0' '486.0' '487.0' '489.0' '49.0' '490.0' '491.0' '492.0' '494.0'\n",
      " '496.0' '497.0' '498.0' '499.0' '501.0' '504.0' '506.0' '507.0' '51.0'\n",
      " '511.0' '512.0' '513.0' '514.0' '515.0' '516.0' '518.0' '52.0' '520.0'\n",
      " '521.0' '523.0' '525.0' '528.0' '53.0' '530.0' '531.0' '534.0' '539.0'\n",
      " '54.0' '541.0' '543.0' '59.0' '6.0' '61.0' '62.0' '64.0' '65.0' '67.0'\n",
      " '68.0' '71.0' '72.0' '73.0' '76.0' '77.0' '78.0' '8.0' '80.0' '81.0'\n",
      " '82.0' '83.0' '84.0' '85.0' '86.0' '88.0' '9.0' '91.0' '92.0' '93.0'\n",
      " '94.0' '96.0' '99.0' 'None']\n",
      "\n",
      "customer_type\n",
      "['Contract' 'Group' 'Transient' 'Transient-Party']\n",
      "\n",
      "reservation_status\n",
      "['Canceled' 'Changed' 'No-Show' 'Not changed']\n"
     ]
    }
   ],
   "source": [
    "for col in preprocessed_data:\n",
    "    if preprocessed_data[col].dtypes == 'object':\n",
    "        print('\\n' +col)\n",
    "        print(np.unique(preprocessed_data[col]))"
   ]
  },
  {
   "cell_type": "code",
   "execution_count": 57,
   "metadata": {},
   "outputs": [],
   "source": [
    "predictors = ['lead_time',\n",
    "             'has_children', 'meal', 'adults', 'distribution_channel',\n",
    "             'previous_cancellations', \n",
    "             'deposit_type', 'customer_type']\n",
    "#['lead_time', 'arrival_month_sin', 'total_nights']\n",
    "#             'has_children', 'meal', 'adults', 'distribution_channel',\n",
    "#             'previous_cancellations', 'assigned_room_type_as_reserved',\n",
    "#             'deposit_type', 'customer_type', 'has_special_requests']\n",
    "df = preprocessed_data[predictors]\n",
    "y = preprocessed_data['reservation_status']"
   ]
  },
  {
   "cell_type": "code",
   "execution_count": 58,
   "metadata": {},
   "outputs": [],
   "source": [
    "df = pd.get_dummies(df)"
   ]
  },
  {
   "cell_type": "code",
   "execution_count": 60,
   "metadata": {},
   "outputs": [],
   "source": [
    "X_train, X_test, y_train, y_test = train_test_split(df, y, test_size=0.4, random_state=42)\n"
   ]
  },
  {
   "cell_type": "markdown",
   "metadata": {},
   "source": [
    "### RF"
   ]
  },
  {
   "cell_type": "code",
   "execution_count": 67,
   "metadata": {},
   "outputs": [
    {
     "data": {
      "text/plain": [
       "GridSearchCV(estimator=RandomForestClassifier(random_state=0),\n",
       "             param_grid={'criterion': ['gini', 'entropy'],\n",
       "                         'max_depth': [5, 10, 15],\n",
       "                         'min_samples_split': [2, 5, 10],\n",
       "                         'n_estimators': [50, 100, 150]})"
      ]
     },
     "execution_count": 67,
     "metadata": {},
     "output_type": "execute_result"
    }
   ],
   "source": [
    "param_grid = {'max_depth': [5, 10, 15],\n",
    "              'min_samples_split': [2, 5, 10]}\n",
    "              #'criterion': ['gini', 'entropy'],\n",
    "              #'n_estimators': [50,100,150] }\n",
    "rf = RandomForestClassifier(random_state=0)\n",
    "clf = GridSearchCV(rf, param_grid)\n",
    "clf.fit(X_train, y_train)"
   ]
  },
  {
   "cell_type": "code",
   "execution_count": 68,
   "metadata": {},
   "outputs": [
    {
     "data": {
      "text/plain": [
       "RandomForestClassifier(criterion='entropy', max_depth=15, min_samples_split=5,\n",
       "                       random_state=0)"
      ]
     },
     "execution_count": 68,
     "metadata": {},
     "output_type": "execute_result"
    }
   ],
   "source": [
    "clf.best_estimator_"
   ]
  },
  {
   "cell_type": "code",
   "execution_count": 69,
   "metadata": {},
   "outputs": [],
   "source": [
    "y_pred = clf.predict(X_test)"
   ]
  },
  {
   "cell_type": "code",
   "execution_count": 70,
   "metadata": {},
   "outputs": [
    {
     "data": {
      "text/plain": [
       "0.6568938528578077"
      ]
     },
     "execution_count": 70,
     "metadata": {},
     "output_type": "execute_result"
    }
   ],
   "source": [
    "accuracy_score(y_test, y_pred, normalize=True)"
   ]
  },
  {
   "cell_type": "markdown",
   "metadata": {},
   "source": [
    "### SVC"
   ]
  },
  {
   "cell_type": "code",
   "execution_count": 74,
   "metadata": {},
   "outputs": [],
   "source": [
    "scaler = StandardScaler()\n",
    "scaler.fit(X_train)\n",
    "X_train = scaler.transform(X_train)"
   ]
  },
  {
   "cell_type": "code",
   "execution_count": null,
   "metadata": {},
   "outputs": [],
   "source": [
    "param_grid = {'kernel':['linear', 'poly', 'rbf', 'sigmoid'],\n",
    "              'degree': [1, 2, 3]}\n",
    "rf = RandomForestClassifier(random_state=0)\n",
    "svc = SVC()\n",
    "clf = GridSearchCV(svc, param_grid)\n",
    "clf.fit(X_train, y_train)"
   ]
  },
  {
   "cell_type": "code",
   "execution_count": null,
   "metadata": {},
   "outputs": [],
   "source": [
    "clf.best_estimator_"
   ]
  },
  {
   "cell_type": "code",
   "execution_count": null,
   "metadata": {},
   "outputs": [],
   "source": [
    "clf.feature_importances_"
   ]
  },
  {
   "cell_type": "code",
   "execution_count": null,
   "metadata": {},
   "outputs": [],
   "source": [
    "y_pred = clf.predict(X_test)"
   ]
  },
  {
   "cell_type": "code",
   "execution_count": null,
   "metadata": {},
   "outputs": [],
   "source": [
    "accuracy_score(y_test, y_pred, normalize=True)"
   ]
  },
  {
   "cell_type": "code",
   "execution_count": null,
   "metadata": {},
   "outputs": [],
   "source": []
  }
 ],
 "metadata": {
  "kernelspec": {
   "display_name": "Python 3",
   "language": "python",
   "name": "python3"
  },
  "language_info": {
   "codemirror_mode": {
    "name": "ipython",
    "version": 3
   },
   "file_extension": ".py",
   "mimetype": "text/x-python",
   "name": "python",
   "nbconvert_exporter": "python",
   "pygments_lexer": "ipython3",
   "version": "3.8.10"
  }
 },
 "nbformat": 4,
 "nbformat_minor": 4
}
